{
  "nbformat": 4,
  "nbformat_minor": 0,
  "metadata": {
    "colab": {
      "name": "4 Dec 2019.ipynb",
      "provenance": [],
      "collapsed_sections": []
    },
    "kernelspec": {
      "name": "python3",
      "display_name": "Python 3"
    }
  },
  "cells": [
    {
      "cell_type": "markdown",
      "metadata": {
        "id": "ScQGbPDQ5cy_",
        "colab_type": "text"
      },
      "source": [
        "### functional programming\n",
        "1.simple                       \n",
        "2.easy to understand                  \n",
        "3.better reuseability"
      ]
    },
    {
      "cell_type": "code",
      "metadata": {
        "id": "bSbc8hmy6zV4",
        "colab_type": "code",
        "colab": {}
      },
      "source": [
        "def nameoffunction(<parameters>)\n",
        "    statements\n",
        "    return"
      ],
      "execution_count": 0,
      "outputs": []
    },
    {
      "cell_type": "code",
      "metadata": {
        "id": "p64G8PcZ7U8X",
        "colab_type": "code",
        "colab": {
          "base_uri": "https://localhost:8080/",
          "height": 34
        },
        "outputId": "c2e8518d-fe3a-43ec-8f18-a413aaef865c"
      },
      "source": [
        "## read a number \n",
        "## print the even digit sum from the number\n",
        "def evenDigitSum(n):\n",
        "  s=0\n",
        "  while n!=0:\n",
        "    r=n%10\n",
        "    if(r%2==0):\n",
        "      s=s+r\n",
        "    n=n//10\n",
        "  return s\n",
        "evenDigitSum(1234)\n",
        "\n",
        "\n",
        "\n"
      ],
      "execution_count": 3,
      "outputs": [
        {
          "output_type": "execute_result",
          "data": {
            "text/plain": [
              "6"
            ]
          },
          "metadata": {
            "tags": []
          },
          "execution_count": 3
        }
      ]
    },
    {
      "cell_type": "code",
      "metadata": {
        "id": "WhQU47SU9Uco",
        "colab_type": "code",
        "colab": {
          "base_uri": "https://localhost:8080/",
          "height": 34
        },
        "outputId": "379ee9e4-a4b1-4e47-d938-86debb70ecb3"
      },
      "source": [
        "def square(x):\n",
        "  return x*x\n",
        "square(3)\n",
        "   "
      ],
      "execution_count": 4,
      "outputs": [
        {
          "output_type": "execute_result",
          "data": {
            "text/plain": [
              "9"
            ]
          },
          "metadata": {
            "tags": []
          },
          "execution_count": 4
        }
      ]
    },
    {
      "cell_type": "code",
      "metadata": {
        "id": "45tD9zoLAwqL",
        "colab_type": "code",
        "colab": {
          "base_uri": "https://localhost:8080/",
          "height": 34
        },
        "outputId": "ee9b80c6-bc83-47bd-b6e1-8eb5b676430a"
      },
      "source": [
        "def square(x):\n",
        "  print(x*x)\n",
        "square(3)"
      ],
      "execution_count": 5,
      "outputs": [
        {
          "output_type": "stream",
          "text": [
            "9\n"
          ],
          "name": "stdout"
        }
      ]
    },
    {
      "cell_type": "code",
      "metadata": {
        "colab_type": "code",
        "outputId": "31a4cd31-777f-4800-8dc1-b1d36a2b5fc6",
        "id": "7x_2w1xYBLo-",
        "colab": {
          "base_uri": "https://localhost:8080/",
          "height": 34
        }
      },
      "source": [
        "def cube(x):\n",
        "  return x*x*x\n",
        "cube(3)"
      ],
      "execution_count": 7,
      "outputs": [
        {
          "output_type": "execute_result",
          "data": {
            "text/plain": [
              "27"
            ]
          },
          "metadata": {
            "tags": []
          },
          "execution_count": 7
        }
      ]
    },
    {
      "cell_type": "code",
      "metadata": {
        "id": "iT3hz7PyCYZ2",
        "colab_type": "code",
        "colab": {
          "base_uri": "https://localhost:8080/",
          "height": 68
        },
        "outputId": "1565d7f8-8220-46d1-bab7-e6f6bbe38c98"
      },
      "source": [
        "def multiply(x,y=0):\n",
        "  print(\"the value of x:\",x)\n",
        "  print(\"the value of y: \",y)\n",
        "  return(x*y)\n",
        "print(multiply(x=1,y=2))"
      ],
      "execution_count": 11,
      "outputs": [
        {
          "output_type": "stream",
          "text": [
            "the value of x: 1\n",
            "the value of y:  2\n",
            "2\n"
          ],
          "name": "stdout"
        }
      ]
    },
    {
      "cell_type": "code",
      "metadata": {
        "id": "ks3HziAqDd1M",
        "colab_type": "code",
        "colab": {
          "base_uri": "https://localhost:8080/",
          "height": 34
        },
        "outputId": "a9be947b-be19-48d2-b7d8-1caef5058015"
      },
      "source": [
        "def swap(x,y):\n",
        "  temp=x\n",
        "  x=y\n",
        "  y=temp\n",
        "  return x,y\n",
        "swap(2,3)\n"
      ],
      "execution_count": 15,
      "outputs": [
        {
          "output_type": "execute_result",
          "data": {
            "text/plain": [
              "(3, 2)"
            ]
          },
          "metadata": {
            "tags": []
          },
          "execution_count": 15
        }
      ]
    },
    {
      "cell_type": "code",
      "metadata": {
        "id": "HUPNXSOxEZ7I",
        "colab_type": "code",
        "colab": {
          "base_uri": "https://localhost:8080/",
          "height": 34
        },
        "outputId": "9895f20a-95c2-412b-88e2-1792e85cfb4d"
      },
      "source": [
        "a='c'\n",
        "print(ord(a))"
      ],
      "execution_count": 18,
      "outputs": [
        {
          "output_type": "stream",
          "text": [
            "99\n"
          ],
          "name": "stdout"
        }
      ]
    },
    {
      "cell_type": "code",
      "metadata": {
        "id": "SF6soq97HYEQ",
        "colab_type": "code",
        "colab": {
          "base_uri": "https://localhost:8080/",
          "height": 51
        },
        "outputId": "ba075ac5-ca77-49ff-f339-5679030bbf4c"
      },
      "source": [
        "a=input(\"enter chracter\")\n",
        "print(ord(a))"
      ],
      "execution_count": 19,
      "outputs": [
        {
          "output_type": "stream",
          "text": [
            "enter chracterd\n",
            "100\n"
          ],
          "name": "stdout"
        }
      ]
    },
    {
      "cell_type": "code",
      "metadata": {
        "id": "DIbpTHpZH8It",
        "colab_type": "code",
        "colab": {
          "base_uri": "https://localhost:8080/",
          "height": 34
        },
        "outputId": "fc7a2982-af6c-452c-8071-9eaebdbc7fbc"
      },
      "source": [
        "def largedigit(n):\n",
        "  large=0 \n",
        "  while n!=0:\n",
        "    r=n%10\n",
        "    if large<=r:\n",
        "      large=r\n",
        "    n=n//10\n",
        "  return(large)\n",
        "largedigit(19564)"
      ],
      "execution_count": 24,
      "outputs": [
        {
          "output_type": "execute_result",
          "data": {
            "text/plain": [
              "9"
            ]
          },
          "metadata": {
            "tags": []
          },
          "execution_count": 24
        }
      ]
    },
    {
      "cell_type": "markdown",
      "metadata": {
        "id": "S8STm3yGLbWx",
        "colab_type": "text"
      },
      "source": [
        "#For loop:\n",
        "Syntax 1 :                    \n",
        "\n",
        "for i in range(start,stop,step):\n",
        ">statements                    \n",
        "\n",
        "Syntax 2 : \n",
        "                     \n",
        "for i Iterableobject:                 \n",
        ">statements"
      ]
    },
    {
      "cell_type": "code",
      "metadata": {
        "id": "xhclrUSeL2jl",
        "colab_type": "code",
        "colab": {
          "base_uri": "https://localhost:8080/",
          "height": 34
        },
        "outputId": "2c4eb42e-e35e-412a-c7c9-e23706408b31"
      },
      "source": [
        "def printseries(lb,ub):\n",
        "  for x in range(lb,ub+1):\n",
        "    print(x,end = ' ')\n",
        "  return\n",
        "printseries(1,10)"
      ],
      "execution_count": 26,
      "outputs": [
        {
          "output_type": "stream",
          "text": [
            "1 2 3 4 5 6 7 8 9 10 "
          ],
          "name": "stdout"
        }
      ]
    },
    {
      "cell_type": "code",
      "metadata": {
        "id": "9czQz3xoNZMG",
        "colab_type": "code",
        "colab": {}
      },
      "source": [
        "def printseries(lb,ub):\n",
        "  for x in range(lb,ub+1):\n",
        "    print(x,end = ' ')\n",
        "  return\n",
        "printseries(1,10)"
      ],
      "execution_count": 0,
      "outputs": []
    },
    {
      "cell_type": "code",
      "metadata": {
        "id": "B67dA7osN7wB",
        "colab_type": "code",
        "colab": {
          "base_uri": "https://localhost:8080/",
          "height": 187
        },
        "outputId": "5fc88994-1eca-4364-8418-81bfd7b7041e"
      },
      "source": [
        "def table(n):\n",
        "  for i in range(1,11):\n",
        "   print(n,'X',i,'=',n*i)\n",
        "table(18)\n",
        " \n"
      ],
      "execution_count": 28,
      "outputs": [
        {
          "output_type": "stream",
          "text": [
            "18 X 1 = 18\n",
            "18 X 2 = 36\n",
            "18 X 3 = 54\n",
            "18 X 4 = 72\n",
            "18 X 5 = 90\n",
            "18 X 6 = 108\n",
            "18 X 7 = 126\n",
            "18 X 8 = 144\n",
            "18 X 9 = 162\n",
            "18 X 10 = 180\n"
          ],
          "name": "stdout"
        }
      ]
    },
    {
      "cell_type": "markdown",
      "metadata": {
        "id": "7APLIgBgO95K",
        "colab_type": "text"
      },
      "source": [
        "##Collection types        \n",
        "1.   List\n",
        "2.   Tuple\n",
        "3.    Set\n",
        "4.Dictionary\n",
        "\n",
        "\n",
        "\n",
        "\n",
        " "
      ]
    },
    {
      "cell_type": "markdown",
      "metadata": {
        "id": "4yzk0fKcPrmZ",
        "colab_type": "text"
      },
      "source": [
        "##List\n",
        "\n",
        "\n",
        "*   One of the Data Structures in python\n",
        "*   Data Structure means to store,sort and Search options\n",
        "*   It's one common Data Structure in python,the items og List seperated by camma and enclosed in square brackets[ ]\n",
        "\n",
        "##Examples\n",
        "\n",
        "1.  li1=[1,12,24]\n",
        "2.  li2=[\"gitam\",1,3,5]\n",
        "\n",
        "\n",
        "\n"
      ]
    },
    {
      "cell_type": "code",
      "metadata": {
        "id": "tEb2IVKKPPJ0",
        "colab_type": "code",
        "colab": {
          "base_uri": "https://localhost:8080/",
          "height": 119
        },
        "outputId": "57221660-8477-43dd-8213-9adadbc07f08"
      },
      "source": [
        "li=[\"manjith\",29,3,2000]\n",
        "pi=[1,2,29]\n",
        "print(li+pi)\n",
        "print(pi[0])\n",
        "print(li[-4])\n",
        "print(li[1:])\n",
        "print(li[1:3])\n",
        "print(li[-3:-1])"
      ],
      "execution_count": 49,
      "outputs": [
        {
          "output_type": "stream",
          "text": [
            "['manjith', 29, 3, 2000, 1, 2, 29]\n",
            "1\n",
            "manjith\n",
            "[29, 3, 2000]\n",
            "[29, 3]\n",
            "[29, 3]\n"
          ],
          "name": "stdout"
        }
      ]
    },
    {
      "cell_type": "code",
      "metadata": {
        "id": "U_yPyHlIUvq5",
        "colab_type": "code",
        "colab": {
          "base_uri": "https://localhost:8080/",
          "height": 85
        },
        "outputId": "6c4dfcf7-9ddd-4692-ceae-33832d96c2a7"
      },
      "source": [
        "li=[\"manjith\",29,3,2000]\n",
        "print(li)\n",
        "li[1]=456\n",
        "print(li)\n",
        "del li[3]\n",
        "print(li)\n",
        "print(len(li))"
      ],
      "execution_count": 54,
      "outputs": [
        {
          "output_type": "stream",
          "text": [
            "['manjith', 29, 3, 2000]\n",
            "['manjith', 456, 3, 2000]\n",
            "['manjith', 456, 3]\n",
            "3\n"
          ],
          "name": "stdout"
        }
      ]
    },
    {
      "cell_type": "code",
      "metadata": {
        "id": "OC99-muQVOUX",
        "colab_type": "code",
        "colab": {}
      },
      "source": [
        ""
      ],
      "execution_count": 0,
      "outputs": []
    }
  ]
}