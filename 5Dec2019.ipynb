{
  "nbformat": 4,
  "nbformat_minor": 0,
  "metadata": {
    "colab": {
      "name": "5Dec2019.ipynb",
      "provenance": [],
      "collapsed_sections": [
        "jWpLXrm2jINI"
      ]
    },
    "kernelspec": {
      "name": "python3",
      "display_name": "Python 3"
    }
  },
  "cells": [
    {
      "cell_type": "code",
      "metadata": {
        "id": "wLutu3oeCGY8",
        "colab_type": "code",
        "outputId": "4aaa2089-94ac-40a1-a3ab-27befc9635ce",
        "colab": {
          "base_uri": "https://localhost:8080/",
          "height": 87
        }
      },
      "source": [
        "#Basic List Functions\n",
        "li=[1,9,16,25,5]\n",
        "print(max(li))\n",
        "print(min(li))\n",
        "print(sum(li))\n",
        "print(sum(li)//len(li))"
      ],
      "execution_count": 0,
      "outputs": [
        {
          "output_type": "stream",
          "text": [
            "25\n",
            "1\n",
            "56\n",
            "11\n"
          ],
          "name": "stdout"
        }
      ]
    },
    {
      "cell_type": "code",
      "metadata": {
        "id": "hasdngB9Fc4L",
        "colab_type": "code",
        "outputId": "50a404d8-eac5-4062-8c57-896ab4932e3f",
        "colab": {
          "base_uri": "https://localhost:8080/",
          "height": 87
        }
      },
      "source": [
        "li=[1,9,16,25,5]\n",
        "li.append(29)# adds the entry at the last \n",
        "print(li)\n",
        "li.insert(-3,46)\n",
        "print(li)\n",
        "li.insert(1,47)#to insert a number at a particular index\n",
        "print(li)\n",
        "li.count(9)#to count how many times 9 is present\n",
        "li.index(46)"
      ],
      "execution_count": 0,
      "outputs": [
        {
          "output_type": "stream",
          "text": [
            "[1, 9, 16, 25, 5, 29]\n",
            "[1, 9, 16, 46, 25, 5, 29]\n",
            "[1, 47, 9, 16, 46, 25, 5, 29]\n"
          ],
          "name": "stdout"
        },
        {
          "output_type": "execute_result",
          "data": {
            "text/plain": [
              "4"
            ]
          },
          "metadata": {
            "tags": []
          },
          "execution_count": 27
        }
      ]
    },
    {
      "cell_type": "code",
      "metadata": {
        "id": "hyzpS21sFn8B",
        "colab_type": "code",
        "outputId": "0a6329c0-c569-452a-8c3b-686ebc8f96b2",
        "colab": {
          "base_uri": "https://localhost:8080/",
          "height": 123
        }
      },
      "source": [
        "li=[1,9,16,25,5]\n",
        "li.sort()\n",
        "print(li)\n",
        "li.pop()#deletes the value of the last entity\n",
        "print(li)\n",
        "li.pop()\n",
        "print(li)\n",
        "li.pop()\n",
        "print(li)\n",
        "li.pop()\n",
        "print(li)\n",
        "li.pop(0)#deletes the value in the particular index i.e.,0th index here\n",
        "print(li)"
      ],
      "execution_count": 0,
      "outputs": [
        {
          "output_type": "stream",
          "text": [
            "[1, 5, 9, 16, 25]\n",
            "[1, 5, 9, 16]\n",
            "[1, 5, 9]\n",
            "[1, 5]\n",
            "[1]\n",
            "[]\n"
          ],
          "name": "stdout"
        }
      ]
    },
    {
      "cell_type": "code",
      "metadata": {
        "id": "IJi9pxxhHbOC",
        "colab_type": "code",
        "outputId": "840c6a9f-1b1e-475e-e03d-e93b3a788c0b",
        "colab": {
          "base_uri": "https://localhost:8080/",
          "height": 52
        }
      },
      "source": [
        "li1=[1,6,1,9,25]\n",
        "li=[1,9,16,25,5]\n",
        "li.extend(li1)# add up 2 lists\n",
        "print(li)\n",
        "li.reverse()#reverse the list\n",
        "print(li)"
      ],
      "execution_count": 0,
      "outputs": [
        {
          "output_type": "stream",
          "text": [
            "[1, 9, 16, 25, 5, 1, 6, 1, 9, 25]\n",
            "[25, 9, 1, 6, 1, 5, 25, 16, 9, 1]\n"
          ],
          "name": "stdout"
        }
      ]
    },
    {
      "cell_type": "code",
      "metadata": {
        "id": "6yKNQKQ0JV0j",
        "colab_type": "code",
        "outputId": "f76afed0-df71-4f54-9e0f-394b9909fe86",
        "colab": {
          "base_uri": "https://localhost:8080/",
          "height": 52
        }
      },
      "source": [
        "#function  to find least and generic large\n",
        "def largenumber(li):\n",
        "  li.sort()\n",
        "  return li[-1]\n",
        "def genericlarge(li,n):\n",
        "  li.sort()\n",
        "  return li[-n]\n",
        "li=[19,1,25,6,9,45,22]\n",
        "print(largenumber(li)) \n",
        "print(genericlarge(li,3)) "
      ],
      "execution_count": 0,
      "outputs": [
        {
          "output_type": "stream",
          "text": [
            "45\n",
            "22\n"
          ],
          "name": "stdout"
        }
      ]
    },
    {
      "cell_type": "code",
      "metadata": {
        "id": "fdb1vT1LL4rz",
        "colab_type": "code",
        "outputId": "aaf22acb-76fa-4665-9c45-66100533b258",
        "colab": {
          "base_uri": "https://localhost:8080/",
          "height": 52
        }
      },
      "source": [
        "def smallnumber(li):\n",
        "  li.sort()\n",
        "  return li[0]\n",
        "def genericsmall(li,n):\n",
        "  li.sort()\n",
        "  return li[n-1]\n",
        "li=[19,1,25,6,9,45,22]\n",
        "print(smallnumber(li)) \n",
        "print(genericsmall(li,3)) "
      ],
      "execution_count": 0,
      "outputs": [
        {
          "output_type": "stream",
          "text": [
            "1\n",
            "9\n"
          ],
          "name": "stdout"
        }
      ]
    },
    {
      "cell_type": "markdown",
      "metadata": {
        "id": "oR4DWFsFSBJM",
        "colab_type": "text"
      },
      "source": [
        "##Tuple\n",
        "* parenthesis()--->Tuple and square brackets[]--->list  \n",
        "* difference between list and tuples                                         \n",
        "   -list are mutable - can be changed/modified                                \n",
        "   -used to access and modify,add,delete data                                   \n",
        "   -tuples are immutable - cannot be changed                                    \n",
        "   -used to access data only\n",
        "\n",
        "\n",
        "\n",
        "\n"
      ]
    },
    {
      "cell_type": "code",
      "metadata": {
        "id": "8QxpqHfRTI9D",
        "colab_type": "code",
        "outputId": "3c25309a-4d2f-4f14-bb95-5386e45a18e3",
        "colab": {
          "base_uri": "https://localhost:8080/",
          "height": 52
        }
      },
      "source": [
        "t1=(1,2,3,4)\n",
        "t1\n",
        "print(type(t1),t1)\n",
        "print(t1[1:3])"
      ],
      "execution_count": 0,
      "outputs": [
        {
          "output_type": "stream",
          "text": [
            "<class 'tuple'> (1, 2, 3, 4)\n",
            "(2, 3)\n"
          ],
          "name": "stdout"
        }
      ]
    },
    {
      "cell_type": "markdown",
      "metadata": {
        "id": "O7tZaXztUdB3",
        "colab_type": "text"
      },
      "source": [
        "Tuple cannot be modified"
      ]
    },
    {
      "cell_type": "code",
      "metadata": {
        "id": "imO9yFMMTVma",
        "colab_type": "code",
        "colab": {}
      },
      "source": [
        ""
      ],
      "execution_count": 0,
      "outputs": []
    },
    {
      "cell_type": "markdown",
      "metadata": {
        "id": "_dVSRPXWUt-0",
        "colab_type": "text"
      },
      "source": [
        "#Dictionaries:                                                                  \n",
        "1. It works on the concept of set unique data\n",
        "2.keys,vales is the unique indentifers for the value\n",
        "3.Each key is seperated from its values with colon(:)  \n",
        "4.Each key and value is seperated with camma(,)\n",
        "5.Dictionaries enclosed with curly braces({}) \n",
        "\n",
        "\n"
      ]
    },
    {
      "cell_type": "code",
      "metadata": {
        "id": "oaPZjZwtWCHA",
        "colab_type": "code",
        "outputId": "3a6bcbc5-7303-40fd-e22f-8ff7f6e52543",
        "colab": {
          "base_uri": "https://localhost:8080/",
          "height": 52
        }
      },
      "source": [
        "d1={\"Name\":\"gitam\",\"Address\":\"Hyderabad\"}\n",
        "print(d1)\n",
        "d2={'Name':'gitam','Address':'Hyderabad'}\n",
        "print(d2)"
      ],
      "execution_count": 0,
      "outputs": [
        {
          "output_type": "stream",
          "text": [
            "{'Name': 'gitam', 'Address': 'Hyderabad'}\n",
            "{'Name': 'gitam', 'Address': 'Hyderabad'}\n"
          ],
          "name": "stdout"
        }
      ]
    },
    {
      "cell_type": "code",
      "metadata": {
        "id": "cjxmachUWO9z",
        "colab_type": "code",
        "outputId": "a79823f2-30d1-4790-883f-f446271ad9f5",
        "colab": {
          "base_uri": "https://localhost:8080/",
          "height": 34
        }
      },
      "source": [
        "d1[\"Address\"]"
      ],
      "execution_count": 0,
      "outputs": [
        {
          "output_type": "execute_result",
          "data": {
            "text/plain": [
              "'Hyderabad'"
            ]
          },
          "metadata": {
            "tags": []
          },
          "execution_count": 63
        }
      ]
    },
    {
      "cell_type": "code",
      "metadata": {
        "id": "N5_eYuFYXDSv",
        "colab_type": "code",
        "outputId": "0db947cf-de04-4634-ce25-b15348b04d96",
        "colab": {
          "base_uri": "https://localhost:8080/",
          "height": 34
        }
      },
      "source": [
        "d1[\"course\"]=\"python\"\n",
        "d1"
      ],
      "execution_count": 0,
      "outputs": [
        {
          "output_type": "execute_result",
          "data": {
            "text/plain": [
              "{'Address': 'Hyderabad', 'Name': 'gitam', 'course': 'python'}"
            ]
          },
          "metadata": {
            "tags": []
          },
          "execution_count": 64
        }
      ]
    },
    {
      "cell_type": "code",
      "metadata": {
        "id": "YYletOQvXRaS",
        "colab_type": "code",
        "outputId": "8f27eecf-88ba-4a0d-8ab8-fe4beff818a2",
        "colab": {
          "base_uri": "https://localhost:8080/",
          "height": 34
        }
      },
      "source": [
        "d1[\"Address\"]=\"rudraram,hyderabad\"#add an entry\n",
        "print(d1)"
      ],
      "execution_count": 0,
      "outputs": [
        {
          "output_type": "stream",
          "text": [
            "{'Name': 'gitam', 'Address': 'rudraram,hyderabad', 'course': 'python'}\n"
          ],
          "name": "stdout"
        }
      ]
    },
    {
      "cell_type": "code",
      "metadata": {
        "id": "nHJoJJN-YSkN",
        "colab_type": "code",
        "outputId": "365e810e-7e3b-4eb9-c705-f054a320ebca",
        "colab": {
          "base_uri": "https://localhost:8080/",
          "height": 34
        }
      },
      "source": [
        "d1.items()"
      ],
      "execution_count": 0,
      "outputs": [
        {
          "output_type": "execute_result",
          "data": {
            "text/plain": [
              "dict_items([('Name', 'gitam'), ('Address', 'rudraram,hyderabad'), ('course', 'python')])"
            ]
          },
          "metadata": {
            "tags": []
          },
          "execution_count": 69
        }
      ]
    },
    {
      "cell_type": "code",
      "metadata": {
        "id": "rqCa3mBsZ6Oy",
        "colab_type": "code",
        "outputId": "8491adf6-54a4-4ec9-8dfa-ff7d29615275",
        "colab": {
          "base_uri": "https://localhost:8080/",
          "height": 34
        }
      },
      "source": [
        "del d1[\"Address\"]\n",
        "print(d1)"
      ],
      "execution_count": 0,
      "outputs": [
        {
          "output_type": "stream",
          "text": [
            "{'Name': 'gitam', 'course': 'python'}\n"
          ],
          "name": "stdout"
        }
      ]
    },
    {
      "cell_type": "code",
      "metadata": {
        "id": "g8NfBISAaGYR",
        "colab_type": "code",
        "outputId": "1ae7208f-9151-40ab-cdfc-83aabdeedf67",
        "colab": {
          "base_uri": "https://localhost:8080/",
          "height": 34
        }
      },
      "source": [
        "d1.keys()"
      ],
      "execution_count": 0,
      "outputs": [
        {
          "output_type": "execute_result",
          "data": {
            "text/plain": [
              "dict_keys(['Name', 'course'])"
            ]
          },
          "metadata": {
            "tags": []
          },
          "execution_count": 72
        }
      ]
    },
    {
      "cell_type": "code",
      "metadata": {
        "id": "ozk4fEYgaJg5",
        "colab_type": "code",
        "outputId": "28ebd5ad-8a75-4847-8e95-83550b74b73e",
        "colab": {
          "base_uri": "https://localhost:8080/",
          "height": 34
        }
      },
      "source": [
        "d1.values()"
      ],
      "execution_count": 0,
      "outputs": [
        {
          "output_type": "execute_result",
          "data": {
            "text/plain": [
              "dict_values(['gitam', 'python'])"
            ]
          },
          "metadata": {
            "tags": []
          },
          "execution_count": 73
        }
      ]
    },
    {
      "cell_type": "code",
      "metadata": {
        "id": "MVFAs9euaOWC",
        "colab_type": "code",
        "outputId": "5c9be6fa-c8cd-4694-b939-ca685aa7b2ff",
        "colab": {
          "base_uri": "https://localhost:8080/",
          "height": 34
        }
      },
      "source": [
        "d1.items()"
      ],
      "execution_count": 0,
      "outputs": [
        {
          "output_type": "execute_result",
          "data": {
            "text/plain": [
              "dict_items([('Name', 'gitam'), ('course', 'python')])"
            ]
          },
          "metadata": {
            "tags": []
          },
          "execution_count": 74
        }
      ]
    },
    {
      "cell_type": "markdown",
      "metadata": {
        "id": "PnGt2GZrbnkW",
        "colab_type": "text"
      },
      "source": [
        "##Strings\n",
        "\n",
        "\n",
        "1.   strings\n",
        "2.   string slicing\n",
        "3.   fundamentals Programming with strings\n",
        "\n"
      ]
    },
    {
      "cell_type": "code",
      "metadata": {
        "id": "XPqk_CyiaRr5",
        "colab_type": "code",
        "outputId": "482e04bb-8d39-47d8-e570-21feaddf2c58",
        "colab": {
          "base_uri": "https://localhost:8080/",
          "height": 52
        }
      },
      "source": [
        "s1='Python'\n",
        "print(s1)\n",
        "print(type(s1))"
      ],
      "execution_count": 0,
      "outputs": [
        {
          "output_type": "stream",
          "text": [
            "Python\n",
            "<class 'str'>\n"
          ],
          "name": "stdout"
        }
      ]
    },
    {
      "cell_type": "code",
      "metadata": {
        "id": "cahlsj9LcEf6",
        "colab_type": "code",
        "outputId": "6c5516e5-12d1-49ad-bdd4-2ed06bd750e0",
        "colab": {
          "base_uri": "https://localhost:8080/",
          "height": 318
        }
      },
      "source": [
        "s1='python'\n",
        "print(s1[0])\n",
        "print(s1[1])\n",
        "print(s1[5])\n",
        "print(s1[len(s1)-1])\n",
        "print(s1[-1])\n",
        "print(s1[0:5])\n",
        "print(s1[0:4])\n",
        "print(s1[:3])\n",
        "print(s1[-3:])\n",
        "print(s1[3:])\n",
        "print(s1[len(s1)//2])#middle of the string\n",
        "print(s1[1:-1])#priting all the characters except 1 and last\n",
        "print(s1[-1::-1])#reverse of a string\n",
        "print(s1[-1:-3:-1])#Acess the last two characters in reverse order\n",
        "#Access the alternative characters\n",
        "print(s1[::2])#two characters\n",
        "print(s1[::3])#three characters\n",
        "print(s1[::-2])#from reverse order"
      ],
      "execution_count": 0,
      "outputs": [
        {
          "output_type": "stream",
          "text": [
            "p\n",
            "y\n",
            "n\n",
            "n\n",
            "n\n",
            "pytho\n",
            "pyth\n",
            "pyt\n",
            "hon\n",
            "hon\n",
            "h\n",
            "ytho\n",
            "nohtyp\n",
            "no\n",
            "pto\n",
            "ph\n",
            "nhy\n"
          ],
          "name": "stdout"
        }
      ]
    },
    {
      "cell_type": "code",
      "metadata": {
        "id": "9xTY0jOaeWCk",
        "colab_type": "code",
        "outputId": "bc8e9507-7ac0-41ce-976d-ba8a0516d9f9",
        "colab": {
          "base_uri": "https://localhost:8080/",
          "height": 34
        }
      },
      "source": [
        "def reversestring(str):\n",
        "  return str[-1::-1]\n",
        "reversestring(\"Programming\")  "
      ],
      "execution_count": 0,
      "outputs": [
        {
          "output_type": "execute_result",
          "data": {
            "text/plain": [
              "'gnimmargorP'"
            ]
          },
          "metadata": {
            "tags": []
          },
          "execution_count": 100
        }
      ]
    },
    {
      "cell_type": "code",
      "metadata": {
        "id": "T7QbaM26gj7H",
        "colab_type": "code",
        "outputId": "3e091757-ed31-4f25-c134-c49e4d05ab0a",
        "colab": {
          "base_uri": "https://localhost:8080/",
          "height": 52
        }
      },
      "source": [
        "#Program to check the number is a palindrome\n",
        "def palindrome(str):\n",
        "  if str == str[-1::-1]:\n",
        "    return True\n",
        "  else:\n",
        "    return False\n",
        "print(palindrome(\"mamam\"))\n",
        "print(palindrome(\"1221\"))"
      ],
      "execution_count": 0,
      "outputs": [
        {
          "output_type": "stream",
          "text": [
            "True\n",
            "True\n"
          ],
          "name": "stdout"
        }
      ]
    },
    {
      "cell_type": "code",
      "metadata": {
        "id": "mnkWI-ahhM3Z",
        "colab_type": "code",
        "outputId": "1358ed48-223c-4ad8-8887-da4fcfe80864",
        "colab": {
          "base_uri": "https://localhost:8080/",
          "height": 52
        }
      },
      "source": [
        "s1 = 'Python'\n",
        "print(s1.upper())\n",
        "print(s1.lower())"
      ],
      "execution_count": 0,
      "outputs": [
        {
          "output_type": "stream",
          "text": [
            "PYTHON\n",
            "python\n"
          ],
          "name": "stdout"
        }
      ]
    },
    {
      "cell_type": "markdown",
      "metadata": {
        "id": "jWpLXrm2jINI",
        "colab_type": "text"
      },
      "source": [
        "### Strings Boolean Built -in methods\n",
        "\n",
        "\n",
        "1.   islower() -->True if the string have all characters lower case\n",
        "2.   isupper() -->True if the string have all characters upper case\n",
        "3.   istitle() -->True if the string is in title case\n",
        "4.   isnumeric() --> True if the string is numeric\n",
        "5.   isalpha() --> True if the string only alphabets\n",
        "6.   isspace() --> True if the string is space"
      ]
    },
    {
      "cell_type": "code",
      "metadata": {
        "id": "UiZeyr_PkS0h",
        "colab_type": "code",
        "outputId": "d7846ac1-3cfb-48de-ea1a-fef95f794d45",
        "colab": {
          "base_uri": "https://localhost:8080/",
          "height": 123
        }
      },
      "source": [
        "print(s1.islower())\n",
        "print(s1.isupper())\n",
        "print(s1.istitle())\n",
        "print(s1.isnumeric())\n",
        "print(s1.isalpha())\n",
        "print(s1.isspace())"
      ],
      "execution_count": 0,
      "outputs": [
        {
          "output_type": "stream",
          "text": [
            "False\n",
            "False\n",
            "True\n",
            "False\n",
            "True\n",
            "False\n"
          ],
          "name": "stdout"
        }
      ]
    },
    {
      "cell_type": "code",
      "metadata": {
        "id": "DSFe5vD5ka1R",
        "colab_type": "code",
        "outputId": "c4295f51-1c00-4801-b6bf-543d2d3fe422",
        "colab": {
          "base_uri": "https://localhost:8080/",
          "height": 123
        }
      },
      "source": [
        "s2='1 2 3 4 5'\n",
        "print(s2.islower())\n",
        "print(s2.isupper())\n",
        "print(s2.istitle())\n",
        "print(s2.isnumeric())\n",
        "print(s2.isalpha())\n",
        "print(s2.isspace())"
      ],
      "execution_count": 0,
      "outputs": [
        {
          "output_type": "stream",
          "text": [
            "False\n",
            "False\n",
            "False\n",
            "False\n",
            "False\n",
            "False\n"
          ],
          "name": "stdout"
        }
      ]
    },
    {
      "cell_type": "code",
      "metadata": {
        "id": "0KeVGMMTlbq1",
        "colab_type": "code",
        "outputId": "8fabb4e7-eddd-4335-9c3a-a8a48ac68a9f",
        "colab": {
          "base_uri": "https://localhost:8080/",
          "height": 34
        }
      },
      "source": [
        "s3=' '\n",
        "print(s3.isspace())"
      ],
      "execution_count": 0,
      "outputs": [
        {
          "output_type": "stream",
          "text": [
            "True\n"
          ],
          "name": "stdout"
        }
      ]
    },
    {
      "cell_type": "markdown",
      "metadata": {
        "id": "NnOu9KmPmT-W",
        "colab_type": "text"
      },
      "source": [
        "## String methods\n",
        "\n",
        "\n",
        "*   join() --> Method will concatinates the two strings\n",
        "\n",
        "*   split() -->Split() returns the list of strings seperated by white space(no parameters)\n",
        "*   replace() -->replaces the specific word/character with new word/character\n",
        "\n"
      ]
    },
    {
      "cell_type": "code",
      "metadata": {
        "id": "VuQ7CZ6GnTHY",
        "colab_type": "code",
        "outputId": "90270506-b3d1-4d5e-f649-d06fbaa845f5",
        "colab": {
          "base_uri": "https://localhost:8080/",
          "height": 34
        }
      },
      "source": [
        "s1=\"Python\"\n",
        "print(\" \".join(s1))"
      ],
      "execution_count": 0,
      "outputs": [
        {
          "output_type": "stream",
          "text": [
            "P y t h o n\n"
          ],
          "name": "stdout"
        }
      ]
    },
    {
      "cell_type": "code",
      "metadata": {
        "id": "hky4t1M6nevB",
        "colab_type": "code",
        "outputId": "b7abca13-4604-474d-9678-f34cc9366099",
        "colab": {
          "base_uri": "https://localhost:8080/",
          "height": 34
        }
      },
      "source": [
        "s1=\"Python\"\n",
        "print(\",\".join(s1))"
      ],
      "execution_count": 0,
      "outputs": [
        {
          "output_type": "stream",
          "text": [
            "P,y,t,h,o,n\n"
          ],
          "name": "stdout"
        }
      ]
    },
    {
      "cell_type": "code",
      "metadata": {
        "id": "A2IcqYqQnpjT",
        "colab_type": "code",
        "outputId": "d6184162-0808-45b2-c1dc-c32308e98cf0",
        "colab": {
          "base_uri": "https://localhost:8080/",
          "height": 221
        }
      },
      "source": [
        "s2 = \"Python Programming Easy to Learn\"\n",
        "print(s2.split()) \n",
        "print(s2.split(a)) "
      ],
      "execution_count": 0,
      "outputs": [
        {
          "output_type": "stream",
          "text": [
            "['Python', 'Programming', 'Easy', 'to', 'Learn']\n"
          ],
          "name": "stdout"
        },
        {
          "output_type": "error",
          "ename": "NameError",
          "evalue": "ignored",
          "traceback": [
            "\u001b[0;31m---------------------------------------------------------------------------\u001b[0m",
            "\u001b[0;31mNameError\u001b[0m                                 Traceback (most recent call last)",
            "\u001b[0;32m<ipython-input-125-78924b1df6b5>\u001b[0m in \u001b[0;36m<module>\u001b[0;34m()\u001b[0m\n\u001b[1;32m      1\u001b[0m \u001b[0ms2\u001b[0m \u001b[0;34m=\u001b[0m \u001b[0;34m\"Python Programming Easy to Learn\"\u001b[0m\u001b[0;34m\u001b[0m\u001b[0;34m\u001b[0m\u001b[0m\n\u001b[1;32m      2\u001b[0m \u001b[0mprint\u001b[0m\u001b[0;34m(\u001b[0m\u001b[0ms2\u001b[0m\u001b[0;34m.\u001b[0m\u001b[0msplit\u001b[0m\u001b[0;34m(\u001b[0m\u001b[0;34m)\u001b[0m\u001b[0;34m)\u001b[0m\u001b[0;34m\u001b[0m\u001b[0;34m\u001b[0m\u001b[0m\n\u001b[0;32m----> 3\u001b[0;31m \u001b[0mprint\u001b[0m\u001b[0;34m(\u001b[0m\u001b[0ms2\u001b[0m\u001b[0;34m.\u001b[0m\u001b[0msplit\u001b[0m\u001b[0;34m(\u001b[0m\u001b[0ma\u001b[0m\u001b[0;34m)\u001b[0m\u001b[0;34m)\u001b[0m\u001b[0;34m\u001b[0m\u001b[0;34m\u001b[0m\u001b[0m\n\u001b[0m",
            "\u001b[0;31mNameError\u001b[0m: name 'a' is not defined"
          ]
        }
      ]
    },
    {
      "cell_type": "code",
      "metadata": {
        "id": "-kJqmrKan_bC",
        "colab_type": "code",
        "outputId": "85ca0b19-542a-4450-9984-8f4d07312d39",
        "colab": {
          "base_uri": "https://localhost:8080/",
          "height": 34
        }
      },
      "source": [
        "s2 = \"Python Programming Easy to Learn\"\n",
        "print(s2.split('a')) \n"
      ],
      "execution_count": 0,
      "outputs": [
        {
          "output_type": "stream",
          "text": [
            "['Python Progr', 'mming E', 'sy to Le', 'rn']\n"
          ],
          "name": "stdout"
        }
      ]
    },
    {
      "cell_type": "code",
      "metadata": {
        "id": "LMUaAYg3oSXv",
        "colab_type": "code",
        "outputId": "17850bfe-9904-4d26-ed90-68f22fcd4782",
        "colab": {
          "base_uri": "https://localhost:8080/",
          "height": 70
        }
      },
      "source": [
        "s2 = \"Python Programming Easy to Learn\"\n",
        "print(len(s2))\n",
        "li = s2.split()\n",
        "print(li)\n",
        "print(len(li))"
      ],
      "execution_count": 0,
      "outputs": [
        {
          "output_type": "stream",
          "text": [
            "32\n",
            "['Python', 'Programming', 'Easy', 'to', 'Learn']\n",
            "5\n"
          ],
          "name": "stdout"
        }
      ]
    },
    {
      "cell_type": "code",
      "metadata": {
        "id": "KIyPUL3qorUG",
        "colab_type": "code",
        "outputId": "ff034990-83d9-48e4-f145-75c66281d2c4",
        "colab": {
          "base_uri": "https://localhost:8080/",
          "height": 34
        }
      },
      "source": [
        "s2 = \"Python Programming Easy to Learn\"\n",
        "li=list(s2)\n",
        "print(li)"
      ],
      "execution_count": 0,
      "outputs": [
        {
          "output_type": "stream",
          "text": [
            "['P', 'y', 't', 'h', 'o', 'n', ' ', 'P', 'r', 'o', 'g', 'r', 'a', 'm', 'm', 'i', 'n', 'g', ' ', 'E', 'a', 's', 'y', ' ', 't', 'o', ' ', 'L', 'e', 'a', 'r', 'n']\n"
          ],
          "name": "stdout"
        }
      ]
    },
    {
      "cell_type": "code",
      "metadata": {
        "id": "HaPXI-uKpo85",
        "colab_type": "code",
        "outputId": "202d2f43-d6e1-4b74-d9bb-042e625f2983",
        "colab": {
          "base_uri": "https://localhost:8080/",
          "height": 34
        }
      },
      "source": [
        "s2 = \"Python Programming Easy to Learn\"\n",
        "print(s2.replace(\"gra\",\"Application\"))"
      ],
      "execution_count": 0,
      "outputs": [
        {
          "output_type": "stream",
          "text": [
            "Python ProApplicationmming Easy to Learn\n"
          ],
          "name": "stdout"
        }
      ]
    },
    {
      "cell_type": "code",
      "metadata": {
        "id": "mIzqrf0dp1yS",
        "colab_type": "code",
        "colab": {}
      },
      "source": [
        ""
      ],
      "execution_count": 0,
      "outputs": []
    }
  ]
}